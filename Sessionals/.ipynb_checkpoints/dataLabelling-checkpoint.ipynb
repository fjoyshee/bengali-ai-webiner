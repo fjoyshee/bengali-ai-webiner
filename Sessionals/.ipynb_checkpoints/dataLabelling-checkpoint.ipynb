{
 "cells": [
  {
   "cell_type": "markdown",
   "metadata": {},
   "source": [
    "# Data Labelling"
   ]
  },
  {
   "cell_type": "code",
   "execution_count": 3,
   "metadata": {},
   "outputs": [],
   "source": [
    "import pandas as pd"
   ]
  },
  {
   "cell_type": "code",
   "execution_count": 4,
   "metadata": {},
   "outputs": [],
   "source": [
    "filePath1 = '../data/IUB1'\n",
    "filePath2 = '../data/IUB2'"
   ]
  },
  {
   "cell_type": "code",
   "execution_count": 5,
   "metadata": {},
   "outputs": [],
   "source": [
    "import os\n",
    "fileNames1 = os.listdir(filePath1)\n",
    "fileNames2 = os.listdir(filePath2)"
   ]
  },
  {
   "cell_type": "code",
   "execution_count": 6,
   "metadata": {},
   "outputs": [
    {
     "data": {
      "text/plain": [
       "['অ_BRAC1_Scan_0005.png',\n",
       " 'এ্যা_BRAC1_Scan_0013.png',\n",
       " 'কৃ_BRAC1_Scan_0027.png',\n",
       " 'ক্ষ্য_BRAC1_Scan_0020.png',\n",
       " 'গ্মি_BRAC1_Scan_0002.png',\n",
       " 'চি_BRAC1_Scan_0052.png',\n",
       " 'জ্যো_BRAC1_Scan_0046.png',\n",
       " 'ণু_BRAC1_Scan_0037.png',\n",
       " 'দূ_BRAC1_Scan_0033.png',\n",
       " 'দ্যো_BRAC1_Scan_0049.png',\n",
       " 'নৃ_BRAC1_Scan_0014.png',\n",
       " 'ন্ত্ব_BRAC1_Scan_0021.png',\n",
       " 'ন্ধ্য_BRAC1_Scan_0057.png',\n",
       " 'পিঁ_BRAC1_Scan_0021.png',\n",
       " 'ফা_BRAC1_Scan_0070.png',\n",
       " 'বু_BRAC1_Scan_0001.png']"
      ]
     },
     "execution_count": 6,
     "metadata": {},
     "output_type": "execute_result"
    }
   ],
   "source": [
    "fileNames1"
   ]
  },
  {
   "cell_type": "code",
   "execution_count": 7,
   "metadata": {},
   "outputs": [
    {
     "data": {
      "text/plain": [
       "['অ_BRAC2_Scan_0130.png',\n",
       " 'এ_BRAC2_Scan_0079.png',\n",
       " 'ক্কো_BRAC2_Scan_0130.png',\n",
       " 'ক্ষো_BRAC2_Scan_0087.png',\n",
       " 'গী_BRAC2_Scan_0090.png',\n",
       " 'গ্ল্যা_BRAC2_Scan_0104.png',\n",
       " 'ঙ্ঘি_BRAC2_Scan_0075.png',\n",
       " 'ছ্যা_BRAC2_Scan_0083.png',\n",
       " 'ঞ্জু_BRAC2_Scan_0105.png',\n",
       " 'ড্ড_BRAC2_Scan_0119.png',\n",
       " 'ণ্ডে_BRAC2_Scan_0141.png',\n",
       " 'ত্র_BRAC2_Scan_0119.png',\n",
       " 'দ্বু_BRAC2_Scan_0137.png',\n",
       " 'না_BRAC2_Scan_0129.png',\n",
       " 'ন্ত্রী_BRAC2_Scan_0102.png',\n",
       " 'ন্মে_BRAC2_Scan_0131.png']"
      ]
     },
     "execution_count": 7,
     "metadata": {},
     "output_type": "execute_result"
    }
   ],
   "source": [
    "fileNames2"
   ]
  },
  {
   "cell_type": "code",
   "execution_count": 33,
   "metadata": {},
   "outputs": [],
   "source": [
    "graphemes = []\n",
    "for file1, file2 in zip(fileNames1, fileNames2):\n",
    "    graphemes.append(file1.split('_')[0])\n",
    "    graphemes.append(file2.split('_')[0])"
   ]
  },
  {
   "cell_type": "code",
   "execution_count": 34,
   "metadata": {},
   "outputs": [
    {
     "data": {
      "text/plain": [
       "['অ',\n",
       " 'অ',\n",
       " 'এ্যা',\n",
       " 'এ',\n",
       " 'কৃ',\n",
       " 'ক্কো',\n",
       " 'ক্ষ্য',\n",
       " 'ক্ষো',\n",
       " 'গ্মি',\n",
       " 'গী',\n",
       " 'চি',\n",
       " 'গ্ল্যা',\n",
       " 'জ্যো',\n",
       " 'ঙ্ঘি',\n",
       " 'ণু',\n",
       " 'ছ্যা',\n",
       " 'দূ',\n",
       " 'ঞ্জু',\n",
       " 'দ্যো',\n",
       " 'ড্ড',\n",
       " 'নৃ',\n",
       " 'ণ্ডে',\n",
       " 'ন্ত্ব',\n",
       " 'ত্র',\n",
       " 'ন্ধ্য',\n",
       " 'দ্বু',\n",
       " 'পিঁ',\n",
       " 'না',\n",
       " 'ফা',\n",
       " 'ন্ত্রী',\n",
       " 'বু',\n",
       " 'ন্মে']"
      ]
     },
     "execution_count": 34,
     "metadata": {},
     "output_type": "execute_result"
    }
   ],
   "source": [
    "graphemes"
   ]
  },
  {
   "cell_type": "code",
   "execution_count": 35,
   "metadata": {},
   "outputs": [
    {
     "data": {
      "text/plain": [
       "32"
      ]
     },
     "execution_count": 35,
     "metadata": {},
     "output_type": "execute_result"
    }
   ],
   "source": [
    "len(graphemes)"
   ]
  },
  {
   "cell_type": "code",
   "execution_count": 38,
   "metadata": {},
   "outputs": [],
   "source": [
    "uniqueGraphemes = set(graphemes)"
   ]
  },
  {
   "cell_type": "code",
   "execution_count": 39,
   "metadata": {},
   "outputs": [
    {
     "data": {
      "text/plain": [
       "31"
      ]
     },
     "execution_count": 39,
     "metadata": {},
     "output_type": "execute_result"
    }
   ],
   "source": [
    "len(uniqueGraphemes)"
   ]
  },
  {
   "cell_type": "code",
   "execution_count": 72,
   "metadata": {},
   "outputs": [],
   "source": [
    "uniqueGraphemes = list(uniqueGraphemes)"
   ]
  },
  {
   "cell_type": "code",
   "execution_count": 78,
   "metadata": {},
   "outputs": [],
   "source": [
    "uniqueGraphemes.sort()"
   ]
  },
  {
   "cell_type": "code",
   "execution_count": 79,
   "metadata": {},
   "outputs": [
    {
     "data": {
      "text/plain": [
       "['অ',\n",
       " 'এ',\n",
       " 'এ্যা',\n",
       " 'কৃ',\n",
       " 'ক্কো',\n",
       " 'ক্ষো',\n",
       " 'ক্ষ্য',\n",
       " 'গী',\n",
       " 'গ্মি',\n",
       " 'গ্ল্যা',\n",
       " 'ঙ্ঘি',\n",
       " 'চি',\n",
       " 'ছ্যা',\n",
       " 'জ্যো',\n",
       " 'ঞ্জু',\n",
       " 'ড্ড',\n",
       " 'ণু',\n",
       " 'ণ্ডে',\n",
       " 'ত্র',\n",
       " 'দূ',\n",
       " 'দ্বু',\n",
       " 'দ্যো',\n",
       " 'না',\n",
       " 'নৃ',\n",
       " 'ন্ত্ব',\n",
       " 'ন্ত্রী',\n",
       " 'ন্ধ্য',\n",
       " 'ন্মে',\n",
       " 'পিঁ',\n",
       " 'ফা',\n",
       " 'বু']"
      ]
     },
     "execution_count": 79,
     "metadata": {},
     "output_type": "execute_result"
    }
   ],
   "source": [
    "uniqueGraphemes"
   ]
  },
  {
   "cell_type": "code",
   "execution_count": 41,
   "metadata": {},
   "outputs": [
    {
     "name": "stdout",
     "output_type": "stream",
     "text": [
      "Requirement already satisfied: pandas in /home/sadigo/anaconda3/envs/torchUS/lib/python3.7/site-packages (0.24.2)\r\n",
      "Requirement already satisfied: numpy>=1.12.0 in /home/sadigo/anaconda3/envs/torchUS/lib/python3.7/site-packages (from pandas) (1.16.4)\r\n",
      "Requirement already satisfied: python-dateutil>=2.5.0 in /home/sadigo/anaconda3/envs/torchUS/lib/python3.7/site-packages (from pandas) (2.8.0)\r\n",
      "Requirement already satisfied: pytz>=2011k in /home/sadigo/anaconda3/envs/torchUS/lib/python3.7/site-packages (from pandas) (2019.2)\r\n",
      "Requirement already satisfied: six>=1.5 in /home/sadigo/anaconda3/envs/torchUS/lib/python3.7/site-packages (from python-dateutil>=2.5.0->pandas) (1.12.0)\r\n"
     ]
    }
   ],
   "source": [
    "!pip install pandas"
   ]
  },
  {
   "cell_type": "code",
   "execution_count": 45,
   "metadata": {},
   "outputs": [],
   "source": [
    "import pandas as pd\n",
    "import numpy as np"
   ]
  },
  {
   "cell_type": "code",
   "execution_count": 80,
   "metadata": {},
   "outputs": [],
   "source": [
    "df = pd.DataFrame({'grapheme': uniqueGraphemes,\n",
    "                    'label': np.arange(0,len(uniqueGraphemes))})"
   ]
  },
  {
   "cell_type": "code",
   "execution_count": 81,
   "metadata": {},
   "outputs": [
    {
     "data": {
      "text/html": [
       "<div>\n",
       "<style scoped>\n",
       "    .dataframe tbody tr th:only-of-type {\n",
       "        vertical-align: middle;\n",
       "    }\n",
       "\n",
       "    .dataframe tbody tr th {\n",
       "        vertical-align: top;\n",
       "    }\n",
       "\n",
       "    .dataframe thead th {\n",
       "        text-align: right;\n",
       "    }\n",
       "</style>\n",
       "<table border=\"1\" class=\"dataframe\">\n",
       "  <thead>\n",
       "    <tr style=\"text-align: right;\">\n",
       "      <th></th>\n",
       "      <th>grapheme</th>\n",
       "      <th>label</th>\n",
       "    </tr>\n",
       "  </thead>\n",
       "  <tbody>\n",
       "    <tr>\n",
       "      <th>0</th>\n",
       "      <td>অ</td>\n",
       "      <td>0</td>\n",
       "    </tr>\n",
       "    <tr>\n",
       "      <th>1</th>\n",
       "      <td>এ</td>\n",
       "      <td>1</td>\n",
       "    </tr>\n",
       "    <tr>\n",
       "      <th>2</th>\n",
       "      <td>এ্যা</td>\n",
       "      <td>2</td>\n",
       "    </tr>\n",
       "    <tr>\n",
       "      <th>3</th>\n",
       "      <td>কৃ</td>\n",
       "      <td>3</td>\n",
       "    </tr>\n",
       "    <tr>\n",
       "      <th>4</th>\n",
       "      <td>ক্কো</td>\n",
       "      <td>4</td>\n",
       "    </tr>\n",
       "    <tr>\n",
       "      <th>5</th>\n",
       "      <td>ক্ষো</td>\n",
       "      <td>5</td>\n",
       "    </tr>\n",
       "    <tr>\n",
       "      <th>6</th>\n",
       "      <td>ক্ষ্য</td>\n",
       "      <td>6</td>\n",
       "    </tr>\n",
       "    <tr>\n",
       "      <th>7</th>\n",
       "      <td>গী</td>\n",
       "      <td>7</td>\n",
       "    </tr>\n",
       "    <tr>\n",
       "      <th>8</th>\n",
       "      <td>গ্মি</td>\n",
       "      <td>8</td>\n",
       "    </tr>\n",
       "    <tr>\n",
       "      <th>9</th>\n",
       "      <td>গ্ল্যা</td>\n",
       "      <td>9</td>\n",
       "    </tr>\n",
       "    <tr>\n",
       "      <th>10</th>\n",
       "      <td>ঙ্ঘি</td>\n",
       "      <td>10</td>\n",
       "    </tr>\n",
       "    <tr>\n",
       "      <th>11</th>\n",
       "      <td>চি</td>\n",
       "      <td>11</td>\n",
       "    </tr>\n",
       "    <tr>\n",
       "      <th>12</th>\n",
       "      <td>ছ্যা</td>\n",
       "      <td>12</td>\n",
       "    </tr>\n",
       "    <tr>\n",
       "      <th>13</th>\n",
       "      <td>জ্যো</td>\n",
       "      <td>13</td>\n",
       "    </tr>\n",
       "    <tr>\n",
       "      <th>14</th>\n",
       "      <td>ঞ্জু</td>\n",
       "      <td>14</td>\n",
       "    </tr>\n",
       "    <tr>\n",
       "      <th>15</th>\n",
       "      <td>ড্ড</td>\n",
       "      <td>15</td>\n",
       "    </tr>\n",
       "    <tr>\n",
       "      <th>16</th>\n",
       "      <td>ণু</td>\n",
       "      <td>16</td>\n",
       "    </tr>\n",
       "    <tr>\n",
       "      <th>17</th>\n",
       "      <td>ণ্ডে</td>\n",
       "      <td>17</td>\n",
       "    </tr>\n",
       "    <tr>\n",
       "      <th>18</th>\n",
       "      <td>ত্র</td>\n",
       "      <td>18</td>\n",
       "    </tr>\n",
       "    <tr>\n",
       "      <th>19</th>\n",
       "      <td>দূ</td>\n",
       "      <td>19</td>\n",
       "    </tr>\n",
       "    <tr>\n",
       "      <th>20</th>\n",
       "      <td>দ্বু</td>\n",
       "      <td>20</td>\n",
       "    </tr>\n",
       "    <tr>\n",
       "      <th>21</th>\n",
       "      <td>দ্যো</td>\n",
       "      <td>21</td>\n",
       "    </tr>\n",
       "    <tr>\n",
       "      <th>22</th>\n",
       "      <td>না</td>\n",
       "      <td>22</td>\n",
       "    </tr>\n",
       "    <tr>\n",
       "      <th>23</th>\n",
       "      <td>নৃ</td>\n",
       "      <td>23</td>\n",
       "    </tr>\n",
       "    <tr>\n",
       "      <th>24</th>\n",
       "      <td>ন্ত্ব</td>\n",
       "      <td>24</td>\n",
       "    </tr>\n",
       "    <tr>\n",
       "      <th>25</th>\n",
       "      <td>ন্ত্রী</td>\n",
       "      <td>25</td>\n",
       "    </tr>\n",
       "    <tr>\n",
       "      <th>26</th>\n",
       "      <td>ন্ধ্য</td>\n",
       "      <td>26</td>\n",
       "    </tr>\n",
       "    <tr>\n",
       "      <th>27</th>\n",
       "      <td>ন্মে</td>\n",
       "      <td>27</td>\n",
       "    </tr>\n",
       "    <tr>\n",
       "      <th>28</th>\n",
       "      <td>পিঁ</td>\n",
       "      <td>28</td>\n",
       "    </tr>\n",
       "    <tr>\n",
       "      <th>29</th>\n",
       "      <td>ফা</td>\n",
       "      <td>29</td>\n",
       "    </tr>\n",
       "    <tr>\n",
       "      <th>30</th>\n",
       "      <td>বু</td>\n",
       "      <td>30</td>\n",
       "    </tr>\n",
       "  </tbody>\n",
       "</table>\n",
       "</div>"
      ],
      "text/plain": [
       "   grapheme  label\n",
       "0         অ      0\n",
       "1         এ      1\n",
       "2      এ্যা      2\n",
       "3        কৃ      3\n",
       "4      ক্কো      4\n",
       "5      ক্ষো      5\n",
       "6     ক্ষ্য      6\n",
       "7        গী      7\n",
       "8      গ্মি      8\n",
       "9    গ্ল্যা      9\n",
       "10     ঙ্ঘি     10\n",
       "11       চি     11\n",
       "12     ছ্যা     12\n",
       "13     জ্যো     13\n",
       "14     ঞ্জু     14\n",
       "15      ড্ড     15\n",
       "16       ণু     16\n",
       "17     ণ্ডে     17\n",
       "18      ত্র     18\n",
       "19       দূ     19\n",
       "20     দ্বু     20\n",
       "21     দ্যো     21\n",
       "22       না     22\n",
       "23       নৃ     23\n",
       "24    ন্ত্ব     24\n",
       "25   ন্ত্রী     25\n",
       "26    ন্ধ্য     26\n",
       "27     ন্মে     27\n",
       "28      পিঁ     28\n",
       "29       ফা     29\n",
       "30       বু     30"
      ]
     },
     "execution_count": 81,
     "metadata": {},
     "output_type": "execute_result"
    }
   ],
   "source": [
    "df"
   ]
  },
  {
   "cell_type": "code",
   "execution_count": 85,
   "metadata": {},
   "outputs": [],
   "source": [
    "export_csv = df.to_csv('../dataTemp/label.csv', index = None, header=True)"
   ]
  },
  {
   "cell_type": "markdown",
   "metadata": {},
   "source": [
    "# Indexing"
   ]
  },
  {
   "cell_type": "code",
   "execution_count": 106,
   "metadata": {},
   "outputs": [],
   "source": [
    "graphemeNames = os.listdir('../dataTemp/IUB')"
   ]
  },
  {
   "cell_type": "code",
   "execution_count": 107,
   "metadata": {},
   "outputs": [
    {
     "data": {
      "text/plain": [
       "['IUB_1.png',\n",
       " 'IUB_2.png',\n",
       " 'IUB_3.png',\n",
       " 'IUB_4.png',\n",
       " 'IUB_5.png',\n",
       " 'IUB_6.png',\n",
       " 'IUB_7.png',\n",
       " 'IUB_8.png',\n",
       " 'IUB_9.png',\n",
       " 'IUB_10.png',\n",
       " 'IUB_11.png',\n",
       " 'IUB_12.png',\n",
       " 'IUB_13.png',\n",
       " 'IUB_14.png',\n",
       " 'IUB_15.png',\n",
       " 'IUB_16.png',\n",
       " 'IUB_17.png',\n",
       " 'IUB_18.png',\n",
       " 'IUB_19.png',\n",
       " 'IUB_20.png',\n",
       " 'IUB_21.png',\n",
       " 'IUB_22.png',\n",
       " 'IUB_23.png',\n",
       " 'IUB_24.png',\n",
       " 'IUB_25.png',\n",
       " 'IUB_26.png',\n",
       " 'IUB_27.png',\n",
       " 'IUB_28.png',\n",
       " 'IUB_29.png',\n",
       " 'IUB_30.png',\n",
       " 'IUB_31.png',\n",
       " 'IUB_32.png']"
      ]
     },
     "execution_count": 107,
     "metadata": {},
     "output_type": "execute_result"
    }
   ],
   "source": [
    "sorted(os.listdir('../dataTemp/IUB'), key=len)"
   ]
  },
  {
   "cell_type": "code",
   "execution_count": 131,
   "metadata": {},
   "outputs": [],
   "source": [
    "df = pd.DataFrame({'fileID': graphemeNames,\n",
    "                    'targetVar': np.arange(0,len(graphemeNames))})"
   ]
  },
  {
   "cell_type": "code",
   "execution_count": 132,
   "metadata": {},
   "outputs": [
    {
     "data": {
      "text/html": [
       "<div>\n",
       "<style scoped>\n",
       "    .dataframe tbody tr th:only-of-type {\n",
       "        vertical-align: middle;\n",
       "    }\n",
       "\n",
       "    .dataframe tbody tr th {\n",
       "        vertical-align: top;\n",
       "    }\n",
       "\n",
       "    .dataframe thead th {\n",
       "        text-align: right;\n",
       "    }\n",
       "</style>\n",
       "<table border=\"1\" class=\"dataframe\">\n",
       "  <thead>\n",
       "    <tr style=\"text-align: right;\">\n",
       "      <th></th>\n",
       "      <th>fileID</th>\n",
       "      <th>targetVar</th>\n",
       "    </tr>\n",
       "  </thead>\n",
       "  <tbody>\n",
       "    <tr>\n",
       "      <th>0</th>\n",
       "      <td>IUB_1.png</td>\n",
       "      <td>0</td>\n",
       "    </tr>\n",
       "    <tr>\n",
       "      <th>1</th>\n",
       "      <td>IUB_10.png</td>\n",
       "      <td>1</td>\n",
       "    </tr>\n",
       "    <tr>\n",
       "      <th>2</th>\n",
       "      <td>IUB_11.png</td>\n",
       "      <td>2</td>\n",
       "    </tr>\n",
       "    <tr>\n",
       "      <th>3</th>\n",
       "      <td>IUB_12.png</td>\n",
       "      <td>3</td>\n",
       "    </tr>\n",
       "    <tr>\n",
       "      <th>4</th>\n",
       "      <td>IUB_13.png</td>\n",
       "      <td>4</td>\n",
       "    </tr>\n",
       "    <tr>\n",
       "      <th>5</th>\n",
       "      <td>IUB_14.png</td>\n",
       "      <td>5</td>\n",
       "    </tr>\n",
       "    <tr>\n",
       "      <th>6</th>\n",
       "      <td>IUB_15.png</td>\n",
       "      <td>6</td>\n",
       "    </tr>\n",
       "    <tr>\n",
       "      <th>7</th>\n",
       "      <td>IUB_16.png</td>\n",
       "      <td>7</td>\n",
       "    </tr>\n",
       "    <tr>\n",
       "      <th>8</th>\n",
       "      <td>IUB_17.png</td>\n",
       "      <td>8</td>\n",
       "    </tr>\n",
       "    <tr>\n",
       "      <th>9</th>\n",
       "      <td>IUB_18.png</td>\n",
       "      <td>9</td>\n",
       "    </tr>\n",
       "    <tr>\n",
       "      <th>10</th>\n",
       "      <td>IUB_19.png</td>\n",
       "      <td>10</td>\n",
       "    </tr>\n",
       "    <tr>\n",
       "      <th>11</th>\n",
       "      <td>IUB_2.png</td>\n",
       "      <td>11</td>\n",
       "    </tr>\n",
       "    <tr>\n",
       "      <th>12</th>\n",
       "      <td>IUB_20.png</td>\n",
       "      <td>12</td>\n",
       "    </tr>\n",
       "    <tr>\n",
       "      <th>13</th>\n",
       "      <td>IUB_21.png</td>\n",
       "      <td>13</td>\n",
       "    </tr>\n",
       "    <tr>\n",
       "      <th>14</th>\n",
       "      <td>IUB_22.png</td>\n",
       "      <td>14</td>\n",
       "    </tr>\n",
       "    <tr>\n",
       "      <th>15</th>\n",
       "      <td>IUB_23.png</td>\n",
       "      <td>15</td>\n",
       "    </tr>\n",
       "    <tr>\n",
       "      <th>16</th>\n",
       "      <td>IUB_24.png</td>\n",
       "      <td>16</td>\n",
       "    </tr>\n",
       "    <tr>\n",
       "      <th>17</th>\n",
       "      <td>IUB_25.png</td>\n",
       "      <td>17</td>\n",
       "    </tr>\n",
       "    <tr>\n",
       "      <th>18</th>\n",
       "      <td>IUB_26.png</td>\n",
       "      <td>18</td>\n",
       "    </tr>\n",
       "    <tr>\n",
       "      <th>19</th>\n",
       "      <td>IUB_27.png</td>\n",
       "      <td>19</td>\n",
       "    </tr>\n",
       "    <tr>\n",
       "      <th>20</th>\n",
       "      <td>IUB_28.png</td>\n",
       "      <td>20</td>\n",
       "    </tr>\n",
       "    <tr>\n",
       "      <th>21</th>\n",
       "      <td>IUB_29.png</td>\n",
       "      <td>21</td>\n",
       "    </tr>\n",
       "    <tr>\n",
       "      <th>22</th>\n",
       "      <td>IUB_3.png</td>\n",
       "      <td>22</td>\n",
       "    </tr>\n",
       "    <tr>\n",
       "      <th>23</th>\n",
       "      <td>IUB_30.png</td>\n",
       "      <td>23</td>\n",
       "    </tr>\n",
       "    <tr>\n",
       "      <th>24</th>\n",
       "      <td>IUB_31.png</td>\n",
       "      <td>24</td>\n",
       "    </tr>\n",
       "    <tr>\n",
       "      <th>25</th>\n",
       "      <td>IUB_32.png</td>\n",
       "      <td>25</td>\n",
       "    </tr>\n",
       "    <tr>\n",
       "      <th>26</th>\n",
       "      <td>IUB_4.png</td>\n",
       "      <td>26</td>\n",
       "    </tr>\n",
       "    <tr>\n",
       "      <th>27</th>\n",
       "      <td>IUB_5.png</td>\n",
       "      <td>27</td>\n",
       "    </tr>\n",
       "    <tr>\n",
       "      <th>28</th>\n",
       "      <td>IUB_6.png</td>\n",
       "      <td>28</td>\n",
       "    </tr>\n",
       "    <tr>\n",
       "      <th>29</th>\n",
       "      <td>IUB_7.png</td>\n",
       "      <td>29</td>\n",
       "    </tr>\n",
       "    <tr>\n",
       "      <th>30</th>\n",
       "      <td>IUB_8.png</td>\n",
       "      <td>30</td>\n",
       "    </tr>\n",
       "    <tr>\n",
       "      <th>31</th>\n",
       "      <td>IUB_9.png</td>\n",
       "      <td>31</td>\n",
       "    </tr>\n",
       "  </tbody>\n",
       "</table>\n",
       "</div>"
      ],
      "text/plain": [
       "        fileID  targetVar\n",
       "0    IUB_1.png          0\n",
       "1   IUB_10.png          1\n",
       "2   IUB_11.png          2\n",
       "3   IUB_12.png          3\n",
       "4   IUB_13.png          4\n",
       "5   IUB_14.png          5\n",
       "6   IUB_15.png          6\n",
       "7   IUB_16.png          7\n",
       "8   IUB_17.png          8\n",
       "9   IUB_18.png          9\n",
       "10  IUB_19.png         10\n",
       "11   IUB_2.png         11\n",
       "12  IUB_20.png         12\n",
       "13  IUB_21.png         13\n",
       "14  IUB_22.png         14\n",
       "15  IUB_23.png         15\n",
       "16  IUB_24.png         16\n",
       "17  IUB_25.png         17\n",
       "18  IUB_26.png         18\n",
       "19  IUB_27.png         19\n",
       "20  IUB_28.png         20\n",
       "21  IUB_29.png         21\n",
       "22   IUB_3.png         22\n",
       "23  IUB_30.png         23\n",
       "24  IUB_31.png         24\n",
       "25  IUB_32.png         25\n",
       "26   IUB_4.png         26\n",
       "27   IUB_5.png         27\n",
       "28   IUB_6.png         28\n",
       "29   IUB_7.png         29\n",
       "30   IUB_8.png         30\n",
       "31   IUB_9.png         31"
      ]
     },
     "execution_count": 132,
     "metadata": {},
     "output_type": "execute_result"
    }
   ],
   "source": [
    "df"
   ]
  },
  {
   "cell_type": "code",
   "execution_count": 133,
   "metadata": {},
   "outputs": [],
   "source": [
    "export_csv = df.to_csv('../dataTemp/groundTruth.csv', index = None, header=True)"
   ]
  },
  {
   "cell_type": "markdown",
   "metadata": {},
   "source": [
    "# Pivoting"
   ]
  },
  {
   "cell_type": "code",
   "execution_count": 134,
   "metadata": {},
   "outputs": [],
   "source": [
    "df = pd.DataFrame({\"A\": [\"foo\", \"foo\", \"foo\", \"foo\", \"foo\",\n",
    "...                          \"bar\", \"bar\", \"bar\", \"bar\"],\n",
    "...                    \"B\": [\"one\", \"one\", \"one\", \"two\", \"two\",\n",
    "...                          \"one\", \"one\", \"two\", \"two\"],\n",
    "...                    \"C\": [\"small\", \"large\", \"large\", \"small\",\n",
    "...                          \"small\", \"large\", \"small\", \"small\",\n",
    "...                          \"large\"],\n",
    "...                    \"D\": [1, 2, 2, 3, 3, 4, 5, 6, 7],\n",
    "...                    \"E\": [2, 4, 5, 5, 6, 6, 8, 9, 9]})"
   ]
  },
  {
   "cell_type": "code",
   "execution_count": 135,
   "metadata": {},
   "outputs": [
    {
     "data": {
      "text/html": [
       "<div>\n",
       "<style scoped>\n",
       "    .dataframe tbody tr th:only-of-type {\n",
       "        vertical-align: middle;\n",
       "    }\n",
       "\n",
       "    .dataframe tbody tr th {\n",
       "        vertical-align: top;\n",
       "    }\n",
       "\n",
       "    .dataframe thead th {\n",
       "        text-align: right;\n",
       "    }\n",
       "</style>\n",
       "<table border=\"1\" class=\"dataframe\">\n",
       "  <thead>\n",
       "    <tr style=\"text-align: right;\">\n",
       "      <th></th>\n",
       "      <th>A</th>\n",
       "      <th>B</th>\n",
       "      <th>C</th>\n",
       "      <th>D</th>\n",
       "      <th>E</th>\n",
       "    </tr>\n",
       "  </thead>\n",
       "  <tbody>\n",
       "    <tr>\n",
       "      <th>0</th>\n",
       "      <td>foo</td>\n",
       "      <td>one</td>\n",
       "      <td>small</td>\n",
       "      <td>1</td>\n",
       "      <td>2</td>\n",
       "    </tr>\n",
       "    <tr>\n",
       "      <th>1</th>\n",
       "      <td>foo</td>\n",
       "      <td>one</td>\n",
       "      <td>large</td>\n",
       "      <td>2</td>\n",
       "      <td>4</td>\n",
       "    </tr>\n",
       "    <tr>\n",
       "      <th>2</th>\n",
       "      <td>foo</td>\n",
       "      <td>one</td>\n",
       "      <td>large</td>\n",
       "      <td>2</td>\n",
       "      <td>5</td>\n",
       "    </tr>\n",
       "    <tr>\n",
       "      <th>3</th>\n",
       "      <td>foo</td>\n",
       "      <td>two</td>\n",
       "      <td>small</td>\n",
       "      <td>3</td>\n",
       "      <td>5</td>\n",
       "    </tr>\n",
       "    <tr>\n",
       "      <th>4</th>\n",
       "      <td>foo</td>\n",
       "      <td>two</td>\n",
       "      <td>small</td>\n",
       "      <td>3</td>\n",
       "      <td>6</td>\n",
       "    </tr>\n",
       "    <tr>\n",
       "      <th>5</th>\n",
       "      <td>bar</td>\n",
       "      <td>one</td>\n",
       "      <td>large</td>\n",
       "      <td>4</td>\n",
       "      <td>6</td>\n",
       "    </tr>\n",
       "    <tr>\n",
       "      <th>6</th>\n",
       "      <td>bar</td>\n",
       "      <td>one</td>\n",
       "      <td>small</td>\n",
       "      <td>5</td>\n",
       "      <td>8</td>\n",
       "    </tr>\n",
       "    <tr>\n",
       "      <th>7</th>\n",
       "      <td>bar</td>\n",
       "      <td>two</td>\n",
       "      <td>small</td>\n",
       "      <td>6</td>\n",
       "      <td>9</td>\n",
       "    </tr>\n",
       "    <tr>\n",
       "      <th>8</th>\n",
       "      <td>bar</td>\n",
       "      <td>two</td>\n",
       "      <td>large</td>\n",
       "      <td>7</td>\n",
       "      <td>9</td>\n",
       "    </tr>\n",
       "  </tbody>\n",
       "</table>\n",
       "</div>"
      ],
      "text/plain": [
       "     A    B      C  D  E\n",
       "0  foo  one  small  1  2\n",
       "1  foo  one  large  2  4\n",
       "2  foo  one  large  2  5\n",
       "3  foo  two  small  3  5\n",
       "4  foo  two  small  3  6\n",
       "5  bar  one  large  4  6\n",
       "6  bar  one  small  5  8\n",
       "7  bar  two  small  6  9\n",
       "8  bar  two  large  7  9"
      ]
     },
     "execution_count": 135,
     "metadata": {},
     "output_type": "execute_result"
    }
   ],
   "source": [
    "df"
   ]
  },
  {
   "cell_type": "code",
   "execution_count": 136,
   "metadata": {},
   "outputs": [],
   "source": [
    "table = pd.pivot_table(df, values='D', index=['A', 'B'],\n",
    "...                     columns=['C'], aggfunc=np.sum)"
   ]
  },
  {
   "cell_type": "code",
   "execution_count": 137,
   "metadata": {},
   "outputs": [
    {
     "data": {
      "text/html": [
       "<div>\n",
       "<style scoped>\n",
       "    .dataframe tbody tr th:only-of-type {\n",
       "        vertical-align: middle;\n",
       "    }\n",
       "\n",
       "    .dataframe tbody tr th {\n",
       "        vertical-align: top;\n",
       "    }\n",
       "\n",
       "    .dataframe thead th {\n",
       "        text-align: right;\n",
       "    }\n",
       "</style>\n",
       "<table border=\"1\" class=\"dataframe\">\n",
       "  <thead>\n",
       "    <tr style=\"text-align: right;\">\n",
       "      <th></th>\n",
       "      <th>C</th>\n",
       "      <th>large</th>\n",
       "      <th>small</th>\n",
       "    </tr>\n",
       "    <tr>\n",
       "      <th>A</th>\n",
       "      <th>B</th>\n",
       "      <th></th>\n",
       "      <th></th>\n",
       "    </tr>\n",
       "  </thead>\n",
       "  <tbody>\n",
       "    <tr>\n",
       "      <th rowspan=\"2\" valign=\"top\">bar</th>\n",
       "      <th>one</th>\n",
       "      <td>4.0</td>\n",
       "      <td>5.0</td>\n",
       "    </tr>\n",
       "    <tr>\n",
       "      <th>two</th>\n",
       "      <td>7.0</td>\n",
       "      <td>6.0</td>\n",
       "    </tr>\n",
       "    <tr>\n",
       "      <th rowspan=\"2\" valign=\"top\">foo</th>\n",
       "      <th>one</th>\n",
       "      <td>4.0</td>\n",
       "      <td>1.0</td>\n",
       "    </tr>\n",
       "    <tr>\n",
       "      <th>two</th>\n",
       "      <td>NaN</td>\n",
       "      <td>6.0</td>\n",
       "    </tr>\n",
       "  </tbody>\n",
       "</table>\n",
       "</div>"
      ],
      "text/plain": [
       "C        large  small\n",
       "A   B                \n",
       "bar one    4.0    5.0\n",
       "    two    7.0    6.0\n",
       "foo one    4.0    1.0\n",
       "    two    NaN    6.0"
      ]
     },
     "execution_count": 137,
     "metadata": {},
     "output_type": "execute_result"
    }
   ],
   "source": [
    "table"
   ]
  },
  {
   "cell_type": "code",
   "execution_count": 138,
   "metadata": {},
   "outputs": [],
   "source": [
    "table = pd.pivot_table(df, values='D', index=['A', 'B'],\n",
    "...                     columns=['C'], aggfunc=np.mean)"
   ]
  },
  {
   "cell_type": "code",
   "execution_count": 139,
   "metadata": {},
   "outputs": [
    {
     "data": {
      "text/html": [
       "<div>\n",
       "<style scoped>\n",
       "    .dataframe tbody tr th:only-of-type {\n",
       "        vertical-align: middle;\n",
       "    }\n",
       "\n",
       "    .dataframe tbody tr th {\n",
       "        vertical-align: top;\n",
       "    }\n",
       "\n",
       "    .dataframe thead th {\n",
       "        text-align: right;\n",
       "    }\n",
       "</style>\n",
       "<table border=\"1\" class=\"dataframe\">\n",
       "  <thead>\n",
       "    <tr style=\"text-align: right;\">\n",
       "      <th></th>\n",
       "      <th>C</th>\n",
       "      <th>large</th>\n",
       "      <th>small</th>\n",
       "    </tr>\n",
       "    <tr>\n",
       "      <th>A</th>\n",
       "      <th>B</th>\n",
       "      <th></th>\n",
       "      <th></th>\n",
       "    </tr>\n",
       "  </thead>\n",
       "  <tbody>\n",
       "    <tr>\n",
       "      <th rowspan=\"2\" valign=\"top\">bar</th>\n",
       "      <th>one</th>\n",
       "      <td>4.0</td>\n",
       "      <td>5.0</td>\n",
       "    </tr>\n",
       "    <tr>\n",
       "      <th>two</th>\n",
       "      <td>7.0</td>\n",
       "      <td>6.0</td>\n",
       "    </tr>\n",
       "    <tr>\n",
       "      <th rowspan=\"2\" valign=\"top\">foo</th>\n",
       "      <th>one</th>\n",
       "      <td>2.0</td>\n",
       "      <td>1.0</td>\n",
       "    </tr>\n",
       "    <tr>\n",
       "      <th>two</th>\n",
       "      <td>NaN</td>\n",
       "      <td>3.0</td>\n",
       "    </tr>\n",
       "  </tbody>\n",
       "</table>\n",
       "</div>"
      ],
      "text/plain": [
       "C        large  small\n",
       "A   B                \n",
       "bar one    4.0    5.0\n",
       "    two    7.0    6.0\n",
       "foo one    2.0    1.0\n",
       "    two    NaN    3.0"
      ]
     },
     "execution_count": 139,
     "metadata": {},
     "output_type": "execute_result"
    }
   ],
   "source": [
    "table"
   ]
  },
  {
   "cell_type": "markdown",
   "metadata": {},
   "source": [
    "# Ploting"
   ]
  },
  {
   "cell_type": "code",
   "execution_count": 140,
   "metadata": {},
   "outputs": [],
   "source": [
    "ts = pd.Series(np.random.randn(1000),\n",
    "   .....:                index=pd.date_range('1/1/2000', periods=1000))"
   ]
  },
  {
   "cell_type": "code",
   "execution_count": 141,
   "metadata": {},
   "outputs": [
    {
     "data": {
      "text/plain": [
       "2000-01-01   -0.797794\n",
       "2000-01-02    1.869543\n",
       "2000-01-03   -0.543414\n",
       "2000-01-04    1.101616\n",
       "2000-01-05   -1.025150\n",
       "2000-01-06   -0.004201\n",
       "2000-01-07    0.242034\n",
       "2000-01-08   -0.306573\n",
       "2000-01-09    0.053420\n",
       "2000-01-10   -0.053876\n",
       "2000-01-11    1.384272\n",
       "2000-01-12    1.612248\n",
       "2000-01-13    0.532657\n",
       "2000-01-14    1.938285\n",
       "2000-01-15   -1.549960\n",
       "2000-01-16    0.041200\n",
       "2000-01-17    0.811275\n",
       "2000-01-18    2.062493\n",
       "2000-01-19    0.215141\n",
       "2000-01-20    1.620036\n",
       "2000-01-21   -1.289047\n",
       "2000-01-22   -0.112088\n",
       "2000-01-23   -0.479607\n",
       "2000-01-24   -0.605202\n",
       "2000-01-25   -0.177441\n",
       "2000-01-26    1.006888\n",
       "2000-01-27    1.236153\n",
       "2000-01-28   -1.025739\n",
       "2000-01-29   -1.456855\n",
       "2000-01-30    1.827675\n",
       "                ...   \n",
       "2002-08-28    0.445723\n",
       "2002-08-29   -0.566458\n",
       "2002-08-30    2.062421\n",
       "2002-08-31    0.265527\n",
       "2002-09-01    0.016742\n",
       "2002-09-02    0.750644\n",
       "2002-09-03   -0.496996\n",
       "2002-09-04   -0.361344\n",
       "2002-09-05    0.839962\n",
       "2002-09-06   -0.992097\n",
       "2002-09-07   -1.330682\n",
       "2002-09-08    0.668991\n",
       "2002-09-09    0.042543\n",
       "2002-09-10   -0.294909\n",
       "2002-09-11   -0.435525\n",
       "2002-09-12    0.320534\n",
       "2002-09-13    0.861144\n",
       "2002-09-14   -0.389121\n",
       "2002-09-15    0.241973\n",
       "2002-09-16   -0.314346\n",
       "2002-09-17   -0.696629\n",
       "2002-09-18   -1.211416\n",
       "2002-09-19    0.970161\n",
       "2002-09-20   -0.252360\n",
       "2002-09-21   -1.132059\n",
       "2002-09-22    1.932884\n",
       "2002-09-23    0.429621\n",
       "2002-09-24   -0.890663\n",
       "2002-09-25   -0.266511\n",
       "2002-09-26    0.468142\n",
       "Freq: D, Length: 1000, dtype: float64"
      ]
     },
     "execution_count": 141,
     "metadata": {},
     "output_type": "execute_result"
    }
   ],
   "source": [
    "ts"
   ]
  },
  {
   "cell_type": "code",
   "execution_count": 142,
   "metadata": {},
   "outputs": [],
   "source": [
    "ts = ts.cumsum()"
   ]
  },
  {
   "cell_type": "code",
   "execution_count": 143,
   "metadata": {},
   "outputs": [
    {
     "data": {
      "text/plain": [
       "2000-01-01   -0.797794\n",
       "2000-01-02    1.071749\n",
       "2000-01-03    0.528335\n",
       "2000-01-04    1.629952\n",
       "2000-01-05    0.604802\n",
       "2000-01-06    0.600601\n",
       "2000-01-07    0.842635\n",
       "2000-01-08    0.536062\n",
       "2000-01-09    0.589482\n",
       "2000-01-10    0.535605\n",
       "2000-01-11    1.919877\n",
       "2000-01-12    3.532125\n",
       "2000-01-13    4.064781\n",
       "2000-01-14    6.003067\n",
       "2000-01-15    4.453107\n",
       "2000-01-16    4.494307\n",
       "2000-01-17    5.305582\n",
       "2000-01-18    7.368075\n",
       "2000-01-19    7.583216\n",
       "2000-01-20    9.203253\n",
       "2000-01-21    7.914205\n",
       "2000-01-22    7.802118\n",
       "2000-01-23    7.322510\n",
       "2000-01-24    6.717308\n",
       "2000-01-25    6.539867\n",
       "2000-01-26    7.546755\n",
       "2000-01-27    8.782908\n",
       "2000-01-28    7.757169\n",
       "2000-01-29    6.300314\n",
       "2000-01-30    8.127990\n",
       "                ...   \n",
       "2002-08-28    1.320732\n",
       "2002-08-29    0.754275\n",
       "2002-08-30    2.816696\n",
       "2002-08-31    3.082223\n",
       "2002-09-01    3.098965\n",
       "2002-09-02    3.849609\n",
       "2002-09-03    3.352613\n",
       "2002-09-04    2.991269\n",
       "2002-09-05    3.831231\n",
       "2002-09-06    2.839134\n",
       "2002-09-07    1.508452\n",
       "2002-09-08    2.177443\n",
       "2002-09-09    2.219986\n",
       "2002-09-10    1.925077\n",
       "2002-09-11    1.489551\n",
       "2002-09-12    1.810085\n",
       "2002-09-13    2.671229\n",
       "2002-09-14    2.282108\n",
       "2002-09-15    2.524081\n",
       "2002-09-16    2.209735\n",
       "2002-09-17    1.513105\n",
       "2002-09-18    0.301690\n",
       "2002-09-19    1.271851\n",
       "2002-09-20    1.019491\n",
       "2002-09-21   -0.112569\n",
       "2002-09-22    1.820315\n",
       "2002-09-23    2.249936\n",
       "2002-09-24    1.359273\n",
       "2002-09-25    1.092762\n",
       "2002-09-26    1.560904\n",
       "Freq: D, Length: 1000, dtype: float64"
      ]
     },
     "execution_count": 143,
     "metadata": {},
     "output_type": "execute_result"
    }
   ],
   "source": [
    "ts"
   ]
  },
  {
   "cell_type": "code",
   "execution_count": 145,
   "metadata": {},
   "outputs": [
    {
     "data": {
      "text/plain": [
       "<matplotlib.axes._subplots.AxesSubplot at 0x7fca1868eb70>"
      ]
     },
     "execution_count": 145,
     "metadata": {},
     "output_type": "execute_result"
    },
    {
     "data": {
      "image/png": "[encoded data removed]",
      "text/plain": [
       "<Figure size 432x288 with 1 Axes>"
      ]
     },
     "metadata": {
      "needs_background": "light"
     },
     "output_type": "display_data"
    }
   ],
   "source": [
    "ts.plot()"
   ]
  },
  {
   "cell_type": "markdown",
   "metadata": {},
   "source": [
    "# Read csv"
   ]
  },
  {
   "cell_type": "code",
   "execution_count": 148,
   "metadata": {},
   "outputs": [],
   "source": [
    "df = pd.read_csv('../dataTemp/groundTruth.csv')"
   ]
  },
  {
   "cell_type": "code",
   "execution_count": 149,
   "metadata": {},
   "outputs": [],
   "source": [
    "def to_one_hot(value,size):\n",
    "    np_one_hot = np.zeros(shape= size)\n",
    "    np_one_hot[value]=1\n",
    "    return np_one_hot"
   ]
  },
  {
   "cell_type": "code",
   "execution_count": 165,
   "metadata": {},
   "outputs": [],
   "source": [
    "graphemeNames = os.listdir('../dataTemp/IUB')\n",
    "for file in graphemeNames:\n",
    "    label=to_one_hot(\n",
    "                df.loc[df['fileID']==file]['targetVar'].values,\n",
    "                32\n",
    "    )"
   ]
  },
  {
   "cell_type": "code",
   "execution_count": 166,
   "metadata": {},
   "outputs": [
    {
     "data": {
      "text/plain": [
       "array([0., 0., 0., 0., 0., 0., 0., 0., 0., 0., 0., 0., 0., 0., 0., 0., 0.,\n",
       "       0., 0., 1., 0., 0., 0., 0., 0., 0., 0., 0., 0., 0., 0., 0.])"
      ]
     },
     "execution_count": 166,
     "metadata": {},
     "output_type": "execute_result"
    }
   ],
   "source": [
    "label"
   ]
  },
  {
   "cell_type": "markdown",
   "metadata": {},
   "source": [
    "# Dataloader Class"
   ]
  },
  {
   "cell_type": "code",
   "execution_count": 167,
   "metadata": {},
   "outputs": [],
   "source": [
    "class DataLoader:\n",
    "    def __init__(self, image_paths, labels_csv_path, size, convert='L'):\n",
    "        self.image_paths = image_paths\n",
    "        self.mask_paths = mask_paths\n",
    "        self.convert = convert\n",
    "        self.size = size\n",
    "        self.df = pd.read_csv(filepath_labels_csv)\n",
    "\n",
    "    def __getitem__(self, index):\n",
    "        imageFile = Image.open(self.image_paths[index]).convert(self.convert)\n",
    "        imageFile = imageFile.resize((self.size, self.size), Image.ANTIALIAS) #Image.ANTIALIAS is the interpolaton method, you don't need to worry about that unless you are Jeff.\n",
    "        imageFile.size\n",
    "        label=to_one_hot(\n",
    "                self.df.loc[self.df['fileID']==imageFile]['targetVar'].values,\n",
    "                32\n",
    "        )\n",
    "        return imageFile, label\n",
    "\n",
    "    def __len__(self):\n",
    "        return len(self.image_paths)\n"
   ]
  },
  {
   "cell_type": "code",
   "execution_count": null,
   "metadata": {},
   "outputs": [],
   "source": []
  }
 ],
 "metadata": {
  "kernelspec": {
   "display_name": "Python 3",
   "language": "python",
   "name": "python3"
  },
  "language_info": {
   "codemirror_mode": {
    "name": "ipython",
    "version": 3
   },
   "file_extension": ".py",
   "mimetype": "text/x-python",
   "name": "python",
   "nbconvert_exporter": "python",
   "pygments_lexer": "ipython3",
   "version": "3.7.3"
  }
 },
 "nbformat": 4,
 "nbformat_minor": 2
}
